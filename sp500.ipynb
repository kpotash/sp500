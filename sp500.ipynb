{
 "metadata": {
  "name": "",
  "signature": "sha256:de46a55e3be9b2d1ae9ef5f1ec4d3040a24851a74858974f26597e5d27849162"
 },
 "nbformat": 3,
 "nbformat_minor": 0,
 "worksheets": [
  {
   "cells": [
    {
     "cell_type": "code",
     "collapsed": false,
     "input": [
      "ls"
     ],
     "language": "python",
     "metadata": {},
     "outputs": [
      {
       "output_type": "stream",
       "stream": "stdout",
       "text": [
        "LoanStats3b.csv  \u001b[0m\u001b[01;31mLoanStats3b.csv.zip\u001b[0m  sp500.csv  sp500.ipynb  Untitled0.ipynb\r\n"
       ]
      }
     ],
     "prompt_number": 1
    },
    {
     "cell_type": "code",
     "collapsed": false,
     "input": [
      "import pandas as pd\n",
      "sp = pd.read_csv('sp500.csv')\n",
      "sp.head()"
     ],
     "language": "python",
     "metadata": {},
     "outputs": [
      {
       "html": [
        "<div style=\"max-height:1000px;max-width:1500px;overflow:auto;\">\n",
        "<table border=\"1\" class=\"dataframe\">\n",
        "  <thead>\n",
        "    <tr style=\"text-align: right;\">\n",
        "      <th></th>\n",
        "      <th>Date</th>\n",
        "      <th>Open</th>\n",
        "      <th>High</th>\n",
        "      <th>Low</th>\n",
        "      <th>Close</th>\n",
        "      <th>Volume</th>\n",
        "      <th>Adj Close</th>\n",
        "    </tr>\n",
        "  </thead>\n",
        "  <tbody>\n",
        "    <tr>\n",
        "      <th>0</th>\n",
        "      <td> 2014-08-29</td>\n",
        "      <td> 1998.45</td>\n",
        "      <td> 2003.38</td>\n",
        "      <td> 1994.65</td>\n",
        "      <td> 2003.37</td>\n",
        "      <td> 2259130000</td>\n",
        "      <td> 2003.37</td>\n",
        "    </tr>\n",
        "    <tr>\n",
        "      <th>1</th>\n",
        "      <td> 2014-08-28</td>\n",
        "      <td> 1997.42</td>\n",
        "      <td> 1998.55</td>\n",
        "      <td> 1990.52</td>\n",
        "      <td> 1996.74</td>\n",
        "      <td> 2282400000</td>\n",
        "      <td> 1996.74</td>\n",
        "    </tr>\n",
        "    <tr>\n",
        "      <th>2</th>\n",
        "      <td> 2014-08-27</td>\n",
        "      <td> 2000.54</td>\n",
        "      <td> 2002.14</td>\n",
        "      <td> 1996.20</td>\n",
        "      <td> 2000.12</td>\n",
        "      <td> 2344350000</td>\n",
        "      <td> 2000.12</td>\n",
        "    </tr>\n",
        "    <tr>\n",
        "      <th>3</th>\n",
        "      <td> 2014-08-26</td>\n",
        "      <td> 1998.59</td>\n",
        "      <td> 2005.04</td>\n",
        "      <td> 1998.59</td>\n",
        "      <td> 2000.02</td>\n",
        "      <td> 2451950000</td>\n",
        "      <td> 2000.02</td>\n",
        "    </tr>\n",
        "    <tr>\n",
        "      <th>4</th>\n",
        "      <td> 2014-08-25</td>\n",
        "      <td> 1991.74</td>\n",
        "      <td> 2001.95</td>\n",
        "      <td> 1991.74</td>\n",
        "      <td> 1997.92</td>\n",
        "      <td> 2233880000</td>\n",
        "      <td> 1997.92</td>\n",
        "    </tr>\n",
        "  </tbody>\n",
        "</table>\n",
        "<p>5 rows \u00d7 7 columns</p>\n",
        "</div>"
       ],
       "metadata": {},
       "output_type": "pyout",
       "prompt_number": 2,
       "text": [
        "         Date     Open     High      Low    Close      Volume  Adj Close\n",
        "0  2014-08-29  1998.45  2003.38  1994.65  2003.37  2259130000    2003.37\n",
        "1  2014-08-28  1997.42  1998.55  1990.52  1996.74  2282400000    1996.74\n",
        "2  2014-08-27  2000.54  2002.14  1996.20  2000.12  2344350000    2000.12\n",
        "3  2014-08-26  1998.59  2005.04  1998.59  2000.02  2451950000    2000.02\n",
        "4  2014-08-25  1991.74  2001.95  1991.74  1997.92  2233880000    1997.92\n",
        "\n",
        "[5 rows x 7 columns]"
       ]
      }
     ],
     "prompt_number": 2
    },
    {
     "cell_type": "code",
     "collapsed": false,
     "input": [
      "import matplotlib.pyplot as plt\n",
      "import datetime"
     ],
     "language": "python",
     "metadata": {},
     "outputs": [],
     "prompt_number": 9
    },
    {
     "cell_type": "code",
     "collapsed": false,
     "input": [
      "spvalue = sp['Adj Close']\n",
      "spvalue.head()"
     ],
     "language": "python",
     "metadata": {},
     "outputs": [
      {
       "metadata": {},
       "output_type": "pyout",
       "prompt_number": 10,
       "text": [
        "0    2003.37\n",
        "1    1996.74\n",
        "2    2000.12\n",
        "3    2000.02\n",
        "4    1997.92\n",
        "Name: Adj Close, dtype: float64"
       ]
      }
     ],
     "prompt_number": 10
    },
    {
     "cell_type": "code",
     "collapsed": false,
     "input": [
      "spdate = sp['Date'].map(lambda t: datetime.datetime.strptime(t, \"%Y-%m-%d\").date())"
     ],
     "language": "python",
     "metadata": {},
     "outputs": [],
     "prompt_number": 11
    },
    {
     "cell_type": "code",
     "collapsed": false,
     "input": [
      "spdate.head()"
     ],
     "language": "python",
     "metadata": {},
     "outputs": [
      {
       "metadata": {},
       "output_type": "pyout",
       "prompt_number": 12,
       "text": [
        "0    2014-08-29\n",
        "1    2014-08-28\n",
        "2    2014-08-27\n",
        "3    2014-08-26\n",
        "4    2014-08-25\n",
        "Name: Date, dtype: object"
       ]
      }
     ],
     "prompt_number": 12
    },
    {
     "cell_type": "code",
     "collapsed": false,
     "input": [
      "type(spdate[0])"
     ],
     "language": "python",
     "metadata": {},
     "outputs": [
      {
       "metadata": {},
       "output_type": "pyout",
       "prompt_number": 15,
       "text": [
        "datetime.date"
       ]
      }
     ],
     "prompt_number": 15
    },
    {
     "cell_type": "code",
     "collapsed": false,
     "input": [
      "plt.plot(spdate, spvalue)"
     ],
     "language": "python",
     "metadata": {},
     "outputs": [
      {
       "metadata": {},
       "output_type": "pyout",
       "prompt_number": 16,
       "text": [
        "[<matplotlib.lines.Line2D at 0xb2da50c>]"
       ]
      },
      {
       "metadata": {},
       "output_type": "display_data",
       "png": "[encoded data removed]",
       "text": [
        "<matplotlib.figure.Figure at 0xb0c382c>"
       ]
      }
     ],
     "prompt_number": 16
    },
    {
     "cell_type": "code",
     "collapsed": false,
     "input": [],
     "language": "python",
     "metadata": {},
     "outputs": []
    }
   ],
   "metadata": {}
  }
 ]
}